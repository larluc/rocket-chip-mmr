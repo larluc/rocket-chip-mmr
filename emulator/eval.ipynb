{
 "cells": [
  {
   "cell_type": "code",
   "execution_count": 1,
   "metadata": {},
   "outputs": [],
   "source": [
    "from vcdvcd import VCDVCD\n",
    "\n",
    "vcd = VCDVCD('helloworld.vcd')"
   ]
  },
  {
   "cell_type": "code",
   "execution_count": 4,
   "metadata": {},
   "outputs": [
    {
     "name": "stdout",
     "output_type": "stream",
     "text": [
      "total cycles: 168870\n",
      "fault-free cycles: 53562 31.72 %\n",
      "faulty cycles: 115308 68.28 %\n",
      "voter-err cycles: 8598\n",
      "corrected cycles: 106710\n",
      "voter-out-err: [0, 0, 0, 5927, 680] 6607\n",
      "faulty cores: [53562, 71193, 35517, 7918, 680]\n",
      "faulty cores%: [31.72, 42.16, 21.03, 4.69, 0.4]\n",
      "errors available: [0, 0, 0, 7918, 680]\n"
     ]
    }
   ],
   "source": [
    "core_path = 'TOP.TestHarness.dut.tile.core'\n",
    "voter_in = [vcd[core_path + '.multiVoter.io_in_' + str(i) + '[1997:0]'] for i in range (4)]\n",
    "\n",
    "inject = [vcd[core_path + '.' + i + '.io_faultconf_inject'] for i in ['Rocket', 'Rocket_1', 'Rocket_2', 'Rocket_3']]\n",
    "\n",
    "voter_sel = vcd[core_path + '.multiVoter.io_sel[1:0]']\n",
    "voter_out = vcd[core_path + '.multiVoter.io_out[1997:0]']\n",
    "voter_err = vcd[core_path + '.multiVoter.io_err']\n",
    "fault_free_out = vcd[core_path + '.faultFreeOut[1997:0]']\n",
    "clock = vcd['TOP.clock']\n",
    "\n",
    "# number of errors is index\n",
    "eval_set = [0, 0, 0, 0, 0]\n",
    "eval_set_err = [0, 0, 0, 0, 0]\n",
    "eval_set_out_err = [0, 0, 0, 0, 0]\n",
    "\n",
    "start = False\n",
    "\n",
    "for i in range(int(clock.endtime)):\n",
    "    if (voter_sel[i] == \"11\" and clock[i] == \"0\"):\n",
    "        faulty_core_count = sum([int(voter_in[n][i] != fault_free_out[i]) for n in range(4)])\n",
    "\n",
    "        eval_set[faulty_core_count] += 1\n",
    "        eval_set_err[faulty_core_count] += int(voter_err[i])\n",
    "        eval_set_out_err[faulty_core_count] += int(voter_out[i] != fault_free_out[i])\n",
    "\n",
    "\n",
    "print(\"total cycles:\", sum(eval_set))\n",
    "print(\"fault-free cycles:\", eval_set[0], round(eval_set[0]*100/sum(eval_set), 2), '%')\n",
    "print(\"faulty cycles:\", sum(eval_set[1:]), round(sum(eval_set[1:])*100/sum(eval_set), 2), '%')\n",
    "print(\"voter-err cycles:\", sum(eval_set_err))\n",
    "print(\"corrected cycles:\", sum(eval_set[1:]) - sum(eval_set_err))\n",
    "print(\"voter-out-err:\", eval_set_out_err, sum(eval_set_out_err))\n",
    "\n",
    "print(\"faulty cores:\", eval_set)\n",
    "print(\"faulty cores%:\", [round(x*100/sum(eval_set), 2) for x in eval_set])\n",
    "print(\"errors available:\", eval_set_err)\n"
   ]
  }
 ],
 "metadata": {
  "interpreter": {
   "hash": "31f2aee4e71d21fbe5cf8b01ff0e069b9275f58929596ceb00d14d90e3e16cd6"
  },
  "kernelspec": {
   "display_name": "Python 3.9.2 64-bit",
   "language": "python",
   "name": "python3"
  },
  "language_info": {
   "codemirror_mode": {
    "name": "ipython",
    "version": 3
   },
   "file_extension": ".py",
   "mimetype": "text/x-python",
   "name": "python",
   "nbconvert_exporter": "python",
   "pygments_lexer": "ipython3",
   "version": "3.8.10"
  },
  "orig_nbformat": 4
 },
 "nbformat": 4,
 "nbformat_minor": 2
}
